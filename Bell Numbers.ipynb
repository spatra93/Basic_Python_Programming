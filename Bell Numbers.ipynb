{
 "cells": [
  {
   "cell_type": "markdown",
   "metadata": {},
   "source": [
    "Given a set of n elements, find number of ways of partitioning it.\n",
    "Examples:\n",
    "\n",
    "Input:  n = 2\n",
    "Output: Number of ways = 2\n",
    "Explanation: Let the set be {1, 2}\n",
    "            { {1}, {2} } \n",
    "            { {1, 2} }\n",
    "\n",
    "Input:  n = 3\n",
    "Output: Number of ways = 5\n",
    "Explanation: Let the set be {1, 2, 3}\n",
    "             { {1}, {2}, {3} }\n",
    "             { {1}, {2, 3} }\n",
    "             { {2}, {1, 3} }\n",
    "             { {3}, {1, 2} }\n",
    "             { {1, 2, 3} }. \n",
    "Solution to above questions is Bell Number.\n",
    "\n",
    "What is a Bell Number?\n",
    "Let S(n, k) be total number of partitions of n elements into k sets. The value of n’th Bell Number is sum of S(n, k) for k = 1 to n.\n",
    "\n",
    " Bell(n) =  \\sum_{k=0}^{n}S(n,k) \n",
    "\n",
    "Value of S(n, k) can be defined recursively as, S(n+1, k) = k*S(n, k) + S(n, k-1)\n",
    "\n",
    "\n",
    "\n",
    "\n",
    "How does above recursive formula work?\n",
    "When we add a (n+1)’th element to k partitions, there are two possibilities.\n",
    "1) It is added as a single element set to existing partitions, i.e, S(n, k-1)\n",
    "2) It is added to all sets of every partition, i.e., k*S(n, k)\n",
    "\n",
    "S(n, k) is called Stirling numbers of the second kind\n",
    "\n",
    "First few Bell numbers are 1, 1, 2, 5, 15, 52, 203, ….\n",
    "\n",
    "A Simple Method to compute n’th Bell Number is to one by one compute S(n, k) for k = 1 to n and return sum of all computed values. Refer this for computation of S(n, k).\n",
    "\n",
    "A Better Method is to use Bell Triangle. Below is a sample Bell Triangle for first few Bell Numbers.\n",
    "\n",
    "1\n",
    "1 2\n",
    "2 3 5\n",
    "5 7 10 15\n",
    "15 20 27 37 52\n",
    "The triangle is constructed using below formula.\n",
    "\n",
    "// If this is first column of current row 'i'\n",
    "If j == 0\n",
    "   // Then copy last entry of previous row\n",
    "   // Note that i'th row has i entries\n",
    "   Bell(i, j) = Bell(i-1, i-1) \n",
    "\n",
    "// If this is not first column of current row\n",
    "Else \n",
    "   // Then this element is sum of previous element \n",
    "   // in current row and the element just above the\n",
    "   // previous element\n",
    "   Bell(i, j) = Bell(i-1, j-1) + Bell(i, j-1)\n",
    "Interpretation\n",
    "Then Bell(n, k) counts the number of partitions of the set {1, 2, …, n + 1} in which the element k + 1 is the largest element that can be alone in its set.\n",
    "\n",
    "For example, Bell(3, 2) is 3, it is count of number of partitions of {1, 2, 3, 4} in which 3 is the largest singleton element. There are three such partitions:\n",
    "\n",
    "\n",
    "\n",
    "\n",
    "    {1}, {2, 4}, {3}\n",
    "    {1, 4}, {2}, {3}\n",
    "    {1, 2, 4}, {3}. "
   ]
  },
  {
   "cell_type": "code",
   "execution_count": 1,
   "metadata": {},
   "outputs": [
    {
     "name": "stdout",
     "output_type": "stream",
     "text": [
      "Bell Number 0 is 1\n",
      "Bell Number 1 is 1\n",
      "Bell Number 2 is 2\n",
      "Bell Number 3 is 5\n",
      "Bell Number 4 is 15\n",
      "Bell Number 5 is 52\n"
     ]
    }
   ],
   "source": [
    "# A Python program to find n'th Bell number \n",
    "def bellNumber(n):   \n",
    "    bell = [[0 for i in range(n+1)] for j in range(n+1)] \n",
    "    bell[0][0] = 1\n",
    "    for i in range(1, n+1):   \n",
    "        # Explicitly fill for j = 0 \n",
    "        bell[i][0] = bell[i-1][i-1]   \n",
    "        # Fill for remaining values of j \n",
    "        for j in range(1, i+1): \n",
    "            bell[i][j] = bell[i-1][j-1] + bell[i][j-1]   \n",
    "    return bell[n][0]   \n",
    "# Driver program \n",
    "for n in range(6): \n",
    "    print('Bell Number', n, 'is', bellNumber(n)) "
   ]
  }
 ],
 "metadata": {
  "kernelspec": {
   "display_name": "Python 3",
   "language": "python",
   "name": "python3"
  },
  "language_info": {
   "codemirror_mode": {
    "name": "ipython",
    "version": 3
   },
   "file_extension": ".py",
   "mimetype": "text/x-python",
   "name": "python",
   "nbconvert_exporter": "python",
   "pygments_lexer": "ipython3",
   "version": "3.8.3"
  }
 },
 "nbformat": 4,
 "nbformat_minor": 4
}
