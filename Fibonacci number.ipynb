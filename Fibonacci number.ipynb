{
 "cells": [
  {
   "cell_type": "code",
   "execution_count": 15,
   "metadata": {},
   "outputs": [
    {
     "name": "stdout",
     "output_type": "stream",
     "text": [
      "[1, 1, 2, 3, 5, 8, 13, 21, 34, 55, 89, 144, 233, 377, 610, 987, 1597, 2584, 4181, 6765]\n"
     ]
    }
   ],
   "source": [
    "#A simple method that is a direct recursive implementation mathematical recurrence relation given above.\n",
    "\n",
    "def fibonacci(n):\n",
    "    if n<0:\n",
    "        print(\"Incorrect Input\")\n",
    "    elif n==0:\n",
    "        return 0\n",
    "    elif n==1:\n",
    "        return 1\n",
    "    else:\n",
    "        return fibonacci(n-1)+fibonacci(n-2)\n",
    "    \n",
    "n=20\n",
    "fibonacci_list = []\n",
    "for i in range(1,(n+1)):\n",
    "    fibonacci_list.append(fibonacci(i))\n",
    "print(fibonacci_list)    \n",
    "\n",
    "#Time Complexity: T(n) = T(n-1) + T(n-2) which is exponential. "
   ]
  },
  {
   "cell_type": "code",
   "execution_count": 13,
   "metadata": {},
   "outputs": [
    {
     "name": "stdout",
     "output_type": "stream",
     "text": [
      "[1, 1, 2, 3, 5, 8, 13, 21, 34, 55, 89, 144, 233, 377, 610, 987, 1597, 2584, 4181, 6765]\n"
     ]
    }
   ],
   "source": [
    "#Function for nth fibonacci number - Space Optimisataion \n",
    "#Taking 1st two fibonacci numbers as 0 and 1   \n",
    "def fibonacci(n): \n",
    "    a = 0\n",
    "    b = 1\n",
    "    if n < 0: \n",
    "        print(\"Incorrect input\") \n",
    "    elif n == 0: \n",
    "        return a \n",
    "    elif n == 1: \n",
    "        return b \n",
    "    else: \n",
    "        for i in range(2,n+1): \n",
    "            c = a + b \n",
    "            a = b \n",
    "            b = c \n",
    "        return b\n",
    "    \n",
    "n=20\n",
    "fibonacci_list = []\n",
    "for i in range(1,(n+1)):\n",
    "    fibonacci_list.append(fibonacci(i))\n",
    "print(fibonacci_list)   \n",
    "\n",
    "#Time Complexity:O(n) \n",
    "#Extra Space: O(1)"
   ]
  },
  {
   "cell_type": "code",
   "execution_count": 18,
   "metadata": {},
   "outputs": [
    {
     "name": "stdout",
     "output_type": "stream",
     "text": [
      "[1, 1, 2, 3, 5, 8, 13, 21, 34, 55, 89, 144, 233, 377, 610, 987, 1597, 2584, 4181, 6765]\n"
     ]
    }
   ],
   "source": [
    "#In this method we directly implement the formula for nth term in the fibonacci series. \n",
    "#Fn = {[(√5 + 1)/2] ^ n} / √5 \n",
    "#Reference: http://www.maths.surrey.ac.uk/hosted-sites/R.Knott/Fibonacci/fibFormula.html \n",
    "# Python3 program to find n'th  \n",
    "# fibonacci Number  \n",
    "import math   \n",
    "def fibo(n): \n",
    "    phi = (1 + math.sqrt(5)) / 2  \n",
    "    return round(pow(phi, n) / math.sqrt(5))       \n",
    "# Driver code     \n",
    "if __name__ == '__main__':        \n",
    "    n=20\n",
    "fibonacci_list = []\n",
    "for i in range(1,(n+1)):\n",
    "    fibonacci_list.append(fibo(i))\n",
    "print(fibonacci_list) "
   ]
  },
  {
   "cell_type": "code",
   "execution_count": 19,
   "metadata": {},
   "outputs": [
    {
     "ename": "SyntaxError",
     "evalue": "invalid syntax (<ipython-input-19-ee12dfba4928>, line 1)",
     "output_type": "error",
     "traceback": [
      "\u001b[1;36m  File \u001b[1;32m\"<ipython-input-19-ee12dfba4928>\"\u001b[1;36m, line \u001b[1;32m1\u001b[0m\n\u001b[1;33m    git remote add origin https://github.com/spatra93/Basic_Python_Programming.git\u001b[0m\n\u001b[1;37m        ^\u001b[0m\n\u001b[1;31mSyntaxError\u001b[0m\u001b[1;31m:\u001b[0m invalid syntax\n"
     ]
    }
   ],
   "source": []
  }
 ],
 "metadata": {
  "kernelspec": {
   "display_name": "Python 3",
   "language": "python",
   "name": "python3"
  },
  "language_info": {
   "codemirror_mode": {
    "name": "ipython",
    "version": 3
   },
   "file_extension": ".py",
   "mimetype": "text/x-python",
   "name": "python",
   "nbconvert_exporter": "python",
   "pygments_lexer": "ipython3",
   "version": "3.8.3"
  }
 },
 "nbformat": 4,
 "nbformat_minor": 4
}
